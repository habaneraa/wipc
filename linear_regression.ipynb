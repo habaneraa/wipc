{
 "cells": [
  {
   "cell_type": "code",
   "execution_count": 1,
   "metadata": {},
   "outputs": [],
   "source": [
    "from preprocess import load_dataset\n",
    "\n",
    "data = load_dataset()"
   ]
  },
  {
   "cell_type": "markdown",
   "metadata": {},
   "source": [
    "提取特征"
   ]
  },
  {
   "cell_type": "code",
   "execution_count": 2,
   "metadata": {},
   "outputs": [
    {
     "name": "stderr",
     "output_type": "stream",
     "text": [
      "User Histories: 100%|██████████| 1044681/1044681 [00:23<00:00, 44358.62it/s]\n",
      "User Histories: 100%|██████████| 184937/184937 [00:04<00:00, 40654.96it/s]\n"
     ]
    },
    {
     "name": "stdout",
     "output_type": "stream",
     "text": [
      "feature dim: 20\n"
     ]
    }
   ],
   "source": [
    "from feature import extract_features\n",
    "\n",
    "features_train = extract_features(data['train'], data['all_uid'])\n",
    "features_valid = extract_features(data['valid'], data['all_uid'])\n",
    "print('feature dim:', features_train.shape[1])"
   ]
  },
  {
   "cell_type": "code",
   "execution_count": 3,
   "metadata": {},
   "outputs": [],
   "source": [
    "import numpy as np\n",
    "import pandas as pd\n",
    "\n",
    "# 互动数量取对数\n",
    "def extract_log_scale_targets(df: pd.DataFrame):\n",
    "    output_columns = ['like_count', 'forward_count', 'comment_count']\n",
    "    targets = []\n",
    "    for col in output_columns:\n",
    "        targets.append(np.log( df[col].to_numpy() + 1 ))\n",
    "    return np.column_stack(targets)\n",
    "\n",
    "targets_train = extract_log_scale_targets(data['train'])\n",
    "targets_valid = extract_log_scale_targets(data['valid'])"
   ]
  },
  {
   "cell_type": "markdown",
   "metadata": {},
   "source": [
    "线性回归 - 拟合+预测"
   ]
  },
  {
   "cell_type": "code",
   "execution_count": 6,
   "metadata": {},
   "outputs": [
    {
     "data": {
      "text/plain": [
       "(184937, 3)"
      ]
     },
     "execution_count": 6,
     "metadata": {},
     "output_type": "execute_result"
    }
   ],
   "source": [
    "from sklearn.linear_model import LinearRegression\n",
    "\n",
    "model = LinearRegression()\n",
    "model.fit(features_train, targets_train)\n",
    "predicts = model.predict(features_valid)\n",
    "predicts.shape"
   ]
  },
  {
   "cell_type": "code",
   "execution_count": 7,
   "metadata": {},
   "outputs": [
    {
     "data": {
      "text/plain": [
       "{'score': 0.29859590862590896}"
      ]
     },
     "execution_count": 7,
     "metadata": {},
     "output_type": "execute_result"
    }
   ],
   "source": [
    "from metric import compute_metrics\n",
    "\n",
    "# 计算指标时恢复对数\n",
    "def exp_interactions(x: np.ndarray) -> np.ndarray:\n",
    "    return np.exp(x) - 1\n",
    "compute_metrics(exp_interactions(predicts), exp_interactions(targets_valid))"
   ]
  }
 ],
 "metadata": {
  "kernelspec": {
   "display_name": "weibo",
   "language": "python",
   "name": "python3"
  },
  "language_info": {
   "codemirror_mode": {
    "name": "ipython",
    "version": 3
   },
   "file_extension": ".py",
   "mimetype": "text/x-python",
   "name": "python",
   "nbconvert_exporter": "python",
   "pygments_lexer": "ipython3",
   "version": "3.12.2"
  }
 },
 "nbformat": 4,
 "nbformat_minor": 2
}

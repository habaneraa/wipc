{
 "cells": [
  {
   "cell_type": "code",
   "execution_count": 2,
   "id": "initial_id",
   "metadata": {
    "collapsed": true,
    "ExecuteTime": {
     "end_time": "2024-03-28T05:52:14.253507400Z",
     "start_time": "2024-03-28T05:52:11.733213800Z"
    }
   },
   "outputs": [
    {
     "name": "stdout",
     "output_type": "stream",
     "text": [
      "train 1044681\n",
      "valid 184937\n",
      "all_train 1229618\n",
      "test 178297\n",
      "all_uid 37960\n"
     ]
    }
   ],
   "source": [
    "import numpy as np\n",
    "import pandas as pd\n",
    "from src.data.load import load_dataset\n",
    "from src.data.process import extract_targets\n",
    "\n",
    "data = load_dataset()\n",
    "for k, v in data.items():\n",
    "    print(k ,len(v))"
   ]
  },
  {
   "cell_type": "code",
   "execution_count": 9,
   "outputs": [
    {
     "name": "stderr",
     "output_type": "stream",
     "text": [
      "Counting User Histories: 100%|██████████| 1229618/1229618 [00:24<00:00, 50037.92it/s]\n"
     ]
    },
    {
     "name": "stdout",
     "output_type": "stream",
     "text": [
      "feature dim: 34\n"
     ]
    }
   ],
   "source": [
    "from src.data.features import extract_user_feature, extract_features\n",
    "\n",
    "user_features = extract_user_feature(data['all_train'], data['all_uid'])\n",
    "features_train = extract_features(data['all_train'], user_features)\n",
    "# features_valid = extract_features(data['valid'], user_features)\n",
    "features_test = extract_features(data['test'], user_features)\n",
    "print('feature dim:', features_train.shape[1])\n",
    "targets_train = extract_targets(data['all_train'], 'log')\n",
    "# targets_valid = extract_targets(data['valid'], 'linear')"
   ],
   "metadata": {
    "collapsed": false,
    "ExecuteTime": {
     "end_time": "2024-03-28T06:08:50.424959100Z",
     "start_time": "2024-03-28T06:08:12.043050Z"
    }
   },
   "id": "fb8cfe7116588c93"
  },
  {
   "cell_type": "code",
   "execution_count": 10,
   "outputs": [
    {
     "name": "stdout",
     "output_type": "stream",
     "text": [
      "fold index: [      0       1       3 ... 1229614 1229616 1229617]\n",
      "MSE: 2298.3708\n",
      "fold index: [      2       3       4 ... 1229614 1229615 1229617]\n",
      "MSE: 5171.099\n",
      "fold index: [      0       1       2 ... 1229614 1229615 1229616]\n",
      "MSE: 2068.6677\n",
      "fold index: [      0       1       2 ... 1229615 1229616 1229617]\n",
      "MSE: 2524.9993\n",
      "fold index: [      0       1       2 ... 1229615 1229616 1229617]\n",
      "MSE: 2450.3135\n"
     ]
    }
   ],
   "source": [
    "from sklearn.metrics import mean_squared_error\n",
    "from sklearn.model_selection import RandomizedSearchCV, KFold\n",
    "import xgboost as xgb\n",
    "from scipy.stats import randint, uniform\n",
    "X = features_train\n",
    "y = targets_train\n",
    "\n",
    "# 定义K值\n",
    "K = 5\n",
    "kf = KFold(n_splits=K, shuffle=True, random_state=42)\n",
    "# 用于存储每个模型的预测结果\n",
    "predictions_list = []\n",
    "# 构建模型\n",
    "model = xgb.XGBRegressor(max_depth=8, learning_rate=0.09445274248684067, n_estimators=131, min_child_weight=6, n_jobs=-1)\n",
    "\n",
    "for train_index, test_index in kf.split(features_train):\n",
    "    # 分割数据\n",
    "    print('fold index:', train_index)\n",
    "    X_train, X_test = X[train_index], X[test_index]\n",
    "    y_train, y_test = y[train_index], y[test_index]\n",
    "    \n",
    "    # 训练模型\n",
    "    model.fit(X_train, y_train)\n",
    "    \n",
    "    # 在测试集上进行预测\n",
    "    predictions = model.predict(features_test)  # 这里使用的是您提到的测试集\n",
    "    predictions_list.append(predictions)\n",
    "    \n",
    "    # 可选：评估模型性能\n",
    "    val_predictions = model.predict(X_test)\n",
    "    print(\"MSE:\", mean_squared_error(y_test, val_predictions))\n",
    "final_predictions = np.mean(predictions_list, axis=0)"
   ],
   "metadata": {
    "collapsed": false,
    "ExecuteTime": {
     "end_time": "2024-03-28T06:13:12.704765Z",
     "start_time": "2024-03-28T06:08:53.676097400Z"
    }
   },
   "id": "7b88a677803b7913"
  },
  {
   "cell_type": "code",
   "execution_count": 12,
   "outputs": [],
   "source": [
    "results = []\n",
    "for i in range(len(data['test'])):\n",
    "    results.append(\n",
    "        \"{}\\t{}\\t{},{},{}\\n\".format(\n",
    "            data['test'].loc[i, 'uid'],\n",
    "            data['test'].loc[i, 'mid'],\n",
    "            int(final_predictions[i, 1]),\n",
    "            int(final_predictions[i, 2]),\n",
    "            int(final_predictions[i, 0])\n",
    "        )\n",
    "    )\n",
    "with open(\"submission.txt\", 'w') as f:\n",
    "    f.writelines(results)"
   ],
   "metadata": {
    "collapsed": false,
    "ExecuteTime": {
     "end_time": "2024-03-28T06:15:49.884668600Z",
     "start_time": "2024-03-28T06:15:48.278224800Z"
    }
   },
   "id": "d52a0ae066836b2b"
  }
 ],
 "metadata": {
  "kernelspec": {
   "display_name": "Python 3",
   "language": "python",
   "name": "python3"
  },
  "language_info": {
   "codemirror_mode": {
    "name": "ipython",
    "version": 2
   },
   "file_extension": ".py",
   "mimetype": "text/x-python",
   "name": "python",
   "nbconvert_exporter": "python",
   "pygments_lexer": "ipython2",
   "version": "2.7.6"
  }
 },
 "nbformat": 4,
 "nbformat_minor": 5
}

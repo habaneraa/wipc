{
 "cells": [
  {
   "cell_type": "markdown",
   "metadata": {},
   "source": [
    "# 数据分析\n",
    "\n",
    "本 notebook 为前端生成数据，直接用于可视化\n",
    "\n",
    "文档部分主要描述数据分析的含义，代码部分根据原始数据生成图表数据\n",
    "\n",
    "如无特殊说明，每组数据由两个数组组成，分别代表 x 坐标和 y 坐标"
   ]
  },
  {
   "cell_type": "code",
   "execution_count": 16,
   "metadata": {},
   "outputs": [],
   "source": [
    "import pandas as pd\n",
    "import numpy as np\n",
    "from src.data.load import load_dataset\n",
    "data = load_dataset()\n",
    "df: pd.DataFrame = data['all_train']\n",
    "data_for_vis = {}"
   ]
  },
  {
   "cell_type": "code",
   "execution_count": 17,
   "metadata": {},
   "outputs": [],
   "source": [
    "# 通用函数\n",
    "def series_to_obj(s: pd.Series):\n",
    "    return {\n",
    "        'x': s.index.to_list(),\n",
    "        'y': s.values.tolist()\n",
    "    }\n",
    "\n",
    "def get_cumulative_percent(value_counts: pd.Series) -> pd.Series:\n",
    "    cumulative = value_counts.sort_index(ascending=False).cumsum()\n",
    "    return cumulative / cumulative.max()"
   ]
  },
  {
   "cell_type": "markdown",
   "metadata": {},
   "source": [
    "## 1 - 互动数量分布\n",
    "\n",
    "互动 (engagement) 行为包含: 点赞 (like), 转发 (forward), 评论 (comment)\n",
    "\n",
    "本部分想描述所有博文里互动数量的分布是怎样的\n",
    "\n",
    "图表类型: 对数坐标散点图, 折线图\n",
    "\n",
    "- `xxx_value_counts` 数据点含义: **互动数量值为 x 的博文数量为 y**\n",
    "- `cumulative_xxx_value_percent` 数据点含义: **互动数量值大于 x 的博文数量为 y**\n",
    "\n",
    "加个需求：这个折线图，最好能有个鼠标悬停到线上时，显示俩辅助线+这个点的横纵坐标，这样能清晰看到比如，有百分之多少的博文点赞数量大于几"
   ]
  },
  {
   "cell_type": "code",
   "execution_count": 18,
   "metadata": {},
   "outputs": [],
   "source": [
    "like_value_counts    = df['like_count'].value_counts()\n",
    "forward_value_counts = df['forward_count'].value_counts()\n",
    "comment_value_counts = df['comment_count'].value_counts()\n",
    "cumulative_like_value_percent    = get_cumulative_percent(like_value_counts)\n",
    "cumulative_forward_value_percent = get_cumulative_percent(forward_value_counts)\n",
    "cumulative_comment_value_percent = get_cumulative_percent(comment_value_counts)\n",
    "data_for_vis.update({\n",
    "    'like_value_counts': series_to_obj(like_value_counts),\n",
    "    'forward_value_counts': series_to_obj(forward_value_counts),\n",
    "    'comment_value_counts': series_to_obj(comment_value_counts),\n",
    "    'cumulative_like_value_percent': series_to_obj(cumulative_like_value_percent),\n",
    "    'cumulative_forward_value_percent': series_to_obj(cumulative_forward_value_percent),\n",
    "    'cumulative_comment_value_percent': series_to_obj(cumulative_comment_value_percent),\n",
    "})"
   ]
  },
  {
   "cell_type": "markdown",
   "metadata": {},
   "source": [
    "## 2 - 列的相关性\n",
    "\n",
    "矩阵需要存成二维数组"
   ]
  },
  {
   "cell_type": "code",
   "execution_count": 19,
   "metadata": {},
   "outputs": [
    {
     "data": {
      "text/html": [
       "<div>\n",
       "<style scoped>\n",
       "    .dataframe tbody tr th:only-of-type {\n",
       "        vertical-align: middle;\n",
       "    }\n",
       "\n",
       "    .dataframe tbody tr th {\n",
       "        vertical-align: top;\n",
       "    }\n",
       "\n",
       "    .dataframe thead th {\n",
       "        text-align: right;\n",
       "    }\n",
       "</style>\n",
       "<table border=\"1\" class=\"dataframe\">\n",
       "  <thead>\n",
       "    <tr style=\"text-align: right;\">\n",
       "      <th></th>\n",
       "      <th>like_count</th>\n",
       "      <th>forward_count</th>\n",
       "      <th>comment_count</th>\n",
       "    </tr>\n",
       "  </thead>\n",
       "  <tbody>\n",
       "    <tr>\n",
       "      <th>like_count</th>\n",
       "      <td>1.000000</td>\n",
       "      <td>0.554547</td>\n",
       "      <td>0.617456</td>\n",
       "    </tr>\n",
       "    <tr>\n",
       "      <th>forward_count</th>\n",
       "      <td>0.554547</td>\n",
       "      <td>1.000000</td>\n",
       "      <td>0.579505</td>\n",
       "    </tr>\n",
       "    <tr>\n",
       "      <th>comment_count</th>\n",
       "      <td>0.617456</td>\n",
       "      <td>0.579505</td>\n",
       "      <td>1.000000</td>\n",
       "    </tr>\n",
       "  </tbody>\n",
       "</table>\n",
       "</div>"
      ],
      "text/plain": [
       "               like_count  forward_count  comment_count\n",
       "like_count       1.000000       0.554547       0.617456\n",
       "forward_count    0.554547       1.000000       0.579505\n",
       "comment_count    0.617456       0.579505       1.000000"
      ]
     },
     "execution_count": 19,
     "metadata": {},
     "output_type": "execute_result"
    }
   ],
   "source": [
    "engagements = df[['like_count', 'forward_count', 'comment_count']]\n",
    "engagements.corr()"
   ]
  },
  {
   "cell_type": "code",
   "execution_count": 20,
   "metadata": {},
   "outputs": [],
   "source": [
    "data_for_vis.update({\n",
    "    'engagement_corr': engagements.corr().to_numpy().tolist()\n",
    "})"
   ]
  },
  {
   "cell_type": "markdown",
   "metadata": {},
   "source": [
    "## 3.1 - 用户的发文数量"
   ]
  },
  {
   "cell_type": "code",
   "execution_count": 21,
   "metadata": {},
   "outputs": [],
   "source": [
    "num_posts_of_users_counts = df['uid'].value_counts().value_counts()\n",
    "cumulative_num_posts = get_cumulative_percent(num_posts_of_users_counts)\n",
    "data_for_vis.update({\n",
    "    'num_posts_of_users_counts': series_to_obj(num_posts_of_users_counts),\n",
    "    'cumulative_num_posts': series_to_obj(cumulative_num_posts)\n",
    "})"
   ]
  },
  {
   "cell_type": "markdown",
   "metadata": {},
   "source": [
    "## 3.2 - 用户发文的平均互动数量\n",
    "\n",
    "这部分还没想好咋弄"
   ]
  },
  {
   "cell_type": "code",
   "execution_count": 22,
   "metadata": {},
   "outputs": [],
   "source": [
    "user_dataframes_sorted = {uid: group.sort_values(by='time') for uid, group in df.groupby('uid')}\n",
    "user_stats = []\n",
    "for uid, dataframe in user_dataframes_sorted.items():\n",
    "    user_stats.append([\n",
    "        dataframe['like_count'].mean(),\n",
    "        dataframe['forward_count'].mean(),\n",
    "        dataframe['comment_count'].mean(),\n",
    "        len(dataframe)\n",
    "    ])\n",
    "user_stats = pd.DataFrame(user_stats, columns=['like_count', 'forward_count', 'comment_count', 'num_posts'])"
   ]
  },
  {
   "cell_type": "markdown",
   "metadata": {},
   "source": [
    "## 3.3 - 用户受到的平均互动量和发帖量的相关性"
   ]
  },
  {
   "cell_type": "code",
   "execution_count": 23,
   "metadata": {},
   "outputs": [
    {
     "data": {
      "text/html": [
       "<div>\n",
       "<style scoped>\n",
       "    .dataframe tbody tr th:only-of-type {\n",
       "        vertical-align: middle;\n",
       "    }\n",
       "\n",
       "    .dataframe tbody tr th {\n",
       "        vertical-align: top;\n",
       "    }\n",
       "\n",
       "    .dataframe thead th {\n",
       "        text-align: right;\n",
       "    }\n",
       "</style>\n",
       "<table border=\"1\" class=\"dataframe\">\n",
       "  <thead>\n",
       "    <tr style=\"text-align: right;\">\n",
       "      <th></th>\n",
       "      <th>like_count</th>\n",
       "      <th>forward_count</th>\n",
       "      <th>comment_count</th>\n",
       "      <th>num_posts</th>\n",
       "    </tr>\n",
       "  </thead>\n",
       "  <tbody>\n",
       "    <tr>\n",
       "      <th>like_count</th>\n",
       "      <td>1.000000</td>\n",
       "      <td>0.514941</td>\n",
       "      <td>0.801157</td>\n",
       "      <td>0.024916</td>\n",
       "    </tr>\n",
       "    <tr>\n",
       "      <th>forward_count</th>\n",
       "      <td>0.514941</td>\n",
       "      <td>1.000000</td>\n",
       "      <td>0.527527</td>\n",
       "      <td>0.030005</td>\n",
       "    </tr>\n",
       "    <tr>\n",
       "      <th>comment_count</th>\n",
       "      <td>0.801157</td>\n",
       "      <td>0.527527</td>\n",
       "      <td>1.000000</td>\n",
       "      <td>0.028349</td>\n",
       "    </tr>\n",
       "    <tr>\n",
       "      <th>num_posts</th>\n",
       "      <td>0.024916</td>\n",
       "      <td>0.030005</td>\n",
       "      <td>0.028349</td>\n",
       "      <td>1.000000</td>\n",
       "    </tr>\n",
       "  </tbody>\n",
       "</table>\n",
       "</div>"
      ],
      "text/plain": [
       "               like_count  forward_count  comment_count  num_posts\n",
       "like_count       1.000000       0.514941       0.801157   0.024916\n",
       "forward_count    0.514941       1.000000       0.527527   0.030005\n",
       "comment_count    0.801157       0.527527       1.000000   0.028349\n",
       "num_posts        0.024916       0.030005       0.028349   1.000000"
      ]
     },
     "execution_count": 23,
     "metadata": {},
     "output_type": "execute_result"
    }
   ],
   "source": [
    "user_stats.corr()"
   ]
  },
  {
   "cell_type": "code",
   "execution_count": 24,
   "metadata": {},
   "outputs": [],
   "source": [
    "data_for_vis.update({\n",
    "    'user_engagement_corr': user_stats.corr().to_numpy().tolist()\n",
    "})"
   ]
  },
  {
   "cell_type": "markdown",
   "metadata": {},
   "source": [
    "## 4 - 发文时间"
   ]
  },
  {
   "cell_type": "code",
   "execution_count": 25,
   "metadata": {},
   "outputs": [],
   "source": [
    "hour_of_day_counts = df['time'].dt.hour.value_counts()\n",
    "day_of_week_counts = df['time'].dt.day_of_week.value_counts()\n",
    "data_for_vis.update({\n",
    "    'hour_of_day_counts': series_to_obj(hour_of_day_counts),\n",
    "    'day_of_week_counts': series_to_obj(day_of_week_counts),\n",
    "})"
   ]
  },
  {
   "cell_type": "markdown",
   "metadata": {},
   "source": [
    "## 5 - 文本内容\n",
    "\n",
    "目前这部分只有文本长度分布图"
   ]
  },
  {
   "cell_type": "code",
   "execution_count": 26,
   "metadata": {},
   "outputs": [],
   "source": [
    "from src.data.process import process_text\n",
    "\n",
    "text_length = df['content'].astype(str).apply(process_text).apply(len)\n",
    "text_characters_counts = text_length.value_counts()\n",
    "data_for_vis.update({\n",
    "    'text_characters_counts': series_to_obj(text_characters_counts)\n",
    "})"
   ]
  },
  {
   "cell_type": "code",
   "execution_count": 27,
   "metadata": {},
   "outputs": [],
   "source": [
    "def run_wordcloud():\n",
    "    import jieba\n",
    "    from tqdm import tqdm\n",
    "    from collections import Counter\n",
    "    jieba.setLogLevel(20)\n",
    "    jieba.initialize()\n",
    "\n",
    "    def cut_text(text: str) -> list[str]:\n",
    "        return [word for word in jieba.cut(text) if word.isalnum()]\n",
    "\n",
    "    all_words = []\n",
    "    for content in tqdm(df['content']):\n",
    "        all_words.extend(cut_text(content))\n",
    "    \n",
    "    word_counts = Counter(word for word in all_words)\n",
    "    word_counts = pd.Series(word_counts).sort_values(ascending=False)\n",
    "    word_counts.to_csv('word_counts.csv')"
   ]
  },
  {
   "cell_type": "markdown",
   "metadata": {},
   "source": [
    "## 保存数据"
   ]
  },
  {
   "cell_type": "code",
   "execution_count": 28,
   "metadata": {},
   "outputs": [],
   "source": [
    "import json\n",
    "\n",
    "class CustomJSONEncoder(json.JSONEncoder):\n",
    "    def default(self, obj):\n",
    "        if isinstance(obj, np.ndarray) and obj.ndim == 1:\n",
    "            return '[{}]'.format(', '.join([str(obj[i]) for i in range(obj.size)]))\n",
    "        # For other types, fallback to default serialization\n",
    "        return super().default(obj)\n",
    "\n",
    "with open('./test_data.json', 'w') as f:\n",
    "    json.dump(data_for_vis, f, ensure_ascii=True, cls=CustomJSONEncoder, indent=4)"
   ]
  }
 ],
 "metadata": {
  "kernelspec": {
   "display_name": "weibo",
   "language": "python",
   "name": "python3"
  },
  "language_info": {
   "codemirror_mode": {
    "name": "ipython",
    "version": 3
   },
   "file_extension": ".py",
   "mimetype": "text/x-python",
   "name": "python",
   "nbconvert_exporter": "python",
   "pygments_lexer": "ipython3",
   "version": "3.12.2"
  }
 },
 "nbformat": 4,
 "nbformat_minor": 2
}

{
 "cells": [
  {
   "cell_type": "markdown",
   "metadata": {},
   "source": [
    "## 1 - 加载数据集并转换为 Torch Dataset"
   ]
  },
  {
   "cell_type": "code",
   "execution_count": null,
   "metadata": {},
   "outputs": [],
   "source": [
    "from pathlib import Path\n",
    "from src.data.load import load_dataset\n",
    "from src.data.utils import load_compressed, save_compressed\n",
    "from src.data.post_sequence import build_user_historical_sequences, PostSequenceDataset\n",
    "\n",
    "def load_histories(dataset_path='./data/histories.pkl.gz'):\n",
    "    if Path(dataset_path).exists():\n",
    "        return load_compressed(dataset_path)\n",
    "    else:\n",
    "        data = load_dataset()\n",
    "        obj = build_user_historical_sequences(data['train'])\n",
    "        save_compressed(obj, dataset_path)\n",
    "        return obj\n",
    "user_histories = load_histories()\n",
    "training_dataset = PostSequenceDataset(user_histories)\n",
    "len(training_dataset)"
   ]
  },
  {
   "cell_type": "markdown",
   "metadata": {},
   "source": [
    "## 2 - 创建模型和相关参数"
   ]
  },
  {
   "cell_type": "code",
   "execution_count": null,
   "metadata": {},
   "outputs": [],
   "source": [
    "from src.models.recurrent import RNN\n",
    "from src.trainer import Trainer, TrainingArguments\n",
    "\n",
    "feature_size = training_dataset[0][0].shape[-1]\n",
    "seq_reg_model = RNN(feature_size, hidden_size=32)\n",
    "trainer = Trainer(\n",
    "    training_dataset, None, None,\n",
    "    seq_reg_model,\n",
    "    TrainingArguments(\n",
    "        epochs=10,\n",
    "        batch_size=64,\n",
    "        learning_rate=0.05\n",
    "    )\n",
    ")"
   ]
  },
  {
   "cell_type": "markdown",
   "metadata": {},
   "source": [
    "## 3 - 训练循环网络和预测器"
   ]
  },
  {
   "cell_type": "code",
   "execution_count": null,
   "metadata": {},
   "outputs": [],
   "source": [
    "trainer.train()"
   ]
  },
  {
   "cell_type": "markdown",
   "metadata": {},
   "source": [
    "## 4 - 利用循环网络提取用户特征"
   ]
  },
  {
   "cell_type": "code",
   "execution_count": null,
   "metadata": {},
   "outputs": [],
   "source": [
    "from tqdm import tqdm\n",
    "\n",
    "user_feature = {}\n",
    "seq_reg_model.to('cpu')\n",
    "seq_reg_model.eval()\n",
    "for user_sample in tqdm(user_histories):\n",
    "    x = user_sample['x_tensor'].unsqueeze(1)\n",
    "    x_len = user_sample['x_len']\n",
    "    y = user_sample['y'].unsqueeze(1)\n",
    "    model_outputs = seq_reg_model(x, x_len, y)\n",
    "    user_feature[user_sample['uid']] = model_outputs.last_hidden_state.view(-1).clone()"
   ]
  },
  {
   "cell_type": "markdown",
   "metadata": {},
   "source": [
    "## 5 - 在验证集和测试集上进行回归预测"
   ]
  },
  {
   "cell_type": "code",
   "execution_count": null,
   "metadata": {},
   "outputs": [],
   "source": []
  },
  {
   "cell_type": "markdown",
   "metadata": {},
   "source": [
    "## "
   ]
  }
 ],
 "metadata": {
  "kernelspec": {
   "display_name": "weibo",
   "language": "python",
   "name": "python3"
  },
  "language_info": {
   "codemirror_mode": {
    "name": "ipython",
    "version": 3
   },
   "file_extension": ".py",
   "mimetype": "text/x-python",
   "name": "python",
   "nbconvert_exporter": "python",
   "pygments_lexer": "ipython3",
   "version": "3.12.2"
  }
 },
 "nbformat": 4,
 "nbformat_minor": 2
}

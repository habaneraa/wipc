{
 "cells": [
  {
   "cell_type": "code",
   "execution_count": 2,
   "metadata": {},
   "outputs": [
    {
     "name": "stdout",
     "output_type": "stream",
     "text": [
      "1044681\n",
      "184937\n",
      "1229618\n",
      "178297\n",
      "37960\n"
     ]
    }
   ],
   "source": [
    "import numpy as np\n",
    "import pandas as pd\n",
    "from src.data.load import load_dataset\n",
    "from src.data.process import extract_targets\n",
    "\n",
    "data = load_dataset()\n",
    "for k, v in data.items():\n",
    "    print(len(v))"
   ]
  },
  {
   "cell_type": "markdown",
   "metadata": {},
   "source": [
    "提取特征"
   ]
  },
  {
   "cell_type": "code",
   "execution_count": 3,
   "metadata": {},
   "outputs": [
    {
     "name": "stderr",
     "output_type": "stream",
     "text": [
      "Counting User Histories: 100%|██████████| 1229618/1229618 [00:30<00:00, 40175.64it/s]\n"
     ]
    },
    {
     "name": "stdout",
     "output_type": "stream",
     "text": [
      "feature dim: 34\n"
     ]
    }
   ],
   "source": [
    "from src.data.features import extract_user_feature, extract_features\n",
    "\n",
    "user_features = extract_user_feature(data['train'], data['all_uid'])\n",
    "features_train = extract_features(data['train'], user_features)\n",
    "features_valid = extract_features(data['valid'], user_features)\n",
    "features_test = extract_features(data['test'], user_features)\n",
    "print('feature dim:', features_train.shape[1])\n",
    "targets_train = extract_targets(data['train'], 'log')\n",
    "targets_valid = extract_targets(data['valid'], 'linear')"
   ]
  },
  {
   "cell_type": "markdown",
   "metadata": {},
   "source": [
    "线性回归 - 拟合+预测"
   ]
  },
  {
   "cell_type": "code",
   "execution_count": 4,
   "metadata": {},
   "outputs": [
    {
     "data": {
      "text/plain": [
       "(184937, 3)"
      ]
     },
     "execution_count": 4,
     "metadata": {},
     "output_type": "execute_result"
    }
   ],
   "source": [
    "from sklearn.linear_model import LinearRegression\n",
    "from sklearn.ensemble import RandomForestRegressor\n",
    "\n",
    "# model = LinearRegression()\n",
    "model = RandomForestRegressor(n_estimators=50, n_jobs=-1)\n",
    "model.fit(features_train, targets_train)\n",
    "predicts = model.predict(features_valid)\n",
    "predicts.shape"
   ]
  },
  {
   "cell_type": "code",
   "execution_count": 5,
   "metadata": {},
   "outputs": [
    {
     "data": {
      "text/plain": [
       "{'score': 0.6512342095375061}"
      ]
     },
     "execution_count": 5,
     "metadata": {},
     "output_type": "execute_result"
    }
   ],
   "source": [
    "from src.metric import compute_metrics\n",
    "\n",
    "# 计算指标时恢复对数\n",
    "def exp_interactions(x: np.ndarray) -> np.ndarray:\n",
    "    \"\"\"先计算指数，然后取整\"\"\"\n",
    "    return np.rint(np.exp(x) - 1).astype(int)\n",
    "compute_metrics(exp_interactions(predicts), targets_valid)"
   ]
  },
  {
   "cell_type": "markdown",
   "metadata": {},
   "source": [
    "测试集结果提交"
   ]
  },
  {
   "cell_type": "code",
   "execution_count": 6,
   "metadata": {},
   "outputs": [],
   "source": [
    "test_set_predicts = exp_interactions(model.predict(features_test))\n",
    "results = []\n",
    "for i in range(len(data['test'])):\n",
    "    results.append(\n",
    "        \"{}\\t{}\\t{},{},{}\\n\".format(\n",
    "            data['test'].loc[i, 'uid'],\n",
    "            data['test'].loc[i, 'mid'],\n",
    "            test_set_predicts[i, 1],\n",
    "            test_set_predicts[i, 2],\n",
    "            test_set_predicts[i, 0]\n",
    "        )\n",
    "    )\n",
    "with open(\"submission.txt\", 'w') as f:\n",
    "    f.writelines(results)"
   ]
  }
 ],
 "metadata": {
  "kernelspec": {
   "display_name": "weibo",
   "language": "python",
   "name": "python3"
  },
  "language_info": {
   "codemirror_mode": {
    "name": "ipython",
    "version": 3
   },
   "file_extension": ".py",
   "mimetype": "text/x-python",
   "name": "python",
   "nbconvert_exporter": "python",
   "pygments_lexer": "ipython3",
   "version": "3.12.2"
  }
 },
 "nbformat": 4,
 "nbformat_minor": 2
}

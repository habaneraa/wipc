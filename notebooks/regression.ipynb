{
 "cells": [
  {
   "cell_type": "markdown",
   "metadata": {},
   "source": [
    "## 1 - 加载数据集并提取特征"
   ]
  },
  {
   "cell_type": "code",
   "execution_count": 8,
   "metadata": {
    "ExecuteTime": {
     "end_time": "2024-03-22T08:34:57.352014300Z",
     "start_time": "2024-03-22T08:34:55.387117700Z"
    }
   },
   "outputs": [
    {
     "name": "stderr",
     "output_type": "stream",
     "text": [
      "Counting User Histories: 100%|██████████| 1229618/1229618 [00:31<00:00, 38639.14it/s]\n"
     ]
    },
    {
     "name": "stdout",
     "output_type": "stream",
     "text": [
      "feature dim: 67\n"
     ]
    }
   ],
   "source": [
    "import numpy as np\n",
    "import pandas as pd\n",
    "from src.data.load import load_dataset\n",
    "from src.data.process import extract_targets\n",
    "from src.data.features import FeatureExtraction\n",
    "\n",
    "data = load_dataset()\n",
    "\n",
    "FeatureExtraction.extract_user_feature(data['all_train'], data['all_uid'])\n",
    "features_train = FeatureExtraction.extract_features(data['all_train'])\n",
    "features_valid = FeatureExtraction.extract_features(data['valid'])\n",
    "features_test = FeatureExtraction.extract_features(data['test'])\n",
    "print('feature dim:', features_train.shape[1])\n",
    "targets_train = extract_targets(data['all_train'], 'log')\n",
    "targets_valid = extract_targets(data['valid'], 'linear')"
   ]
  },
  {
   "cell_type": "markdown",
   "metadata": {},
   "source": [
    "## 2 - 超参数搜索 & 模型拟合"
   ]
  },
  {
   "cell_type": "code",
   "execution_count": null,
   "metadata": {
    "ExecuteTime": {
     "end_time": "2024-03-22T09:29:54.501962700Z",
     "start_time": "2024-03-22T09:16:34.392580700Z"
    },
    "collapsed": false
   },
   "outputs": [],
   "source": [
    "from sklearn.model_selection import RandomizedSearchCV\n",
    "import xgboost as xgb\n",
    "from scipy.stats import randint, uniform\n",
    "\n",
    "# 构建模型\n",
    "model = xgb.XGBRegressor()\n",
    "\n",
    "# 定义参数分布s\n",
    "param_dist = {\n",
    "    'max_depth': randint(3, 16),\n",
    "    'learning_rate': uniform(0.01, 0.1),\n",
    "    'n_estimators': randint(80, 200),\n",
    "    # 'min_child_weight': randint(1, 10)\n",
    "}\n",
    "\n",
    "# 执行随机搜索\n",
    "random_search = RandomizedSearchCV(\n",
    "    estimator=model, \n",
    "    param_distributions=param_dist, \n",
    "    n_iter=5, \n",
    "    cv=5, \n",
    "    n_jobs=-1,\n",
    "    verbose=2\n",
    "    )\n",
    "random_result = random_search.fit(features_train, targets_train)\n",
    "\n",
    "# 输出最佳参数组合和得分\n",
    "print(\"Best Parameters: \", random_result.best_params_)\n",
    "print(\"Best Score: \", random_result.best_score_)"
   ]
  },
  {
   "cell_type": "code",
   "execution_count": 2,
   "metadata": {
    "ExecuteTime": {
     "end_time": "2024-03-22T09:51:59.577425700Z",
     "start_time": "2024-03-22T09:39:19.864586400Z"
    },
    "collapsed": false
   },
   "outputs": [
    {
     "name": "stdout",
     "output_type": "stream",
     "text": [
      "Fitting 3 folds for each of 9 candidates, totalling 27 fits\n",
      "Best Parameters:  {'max_depth': 20, 'max_features': 'sqrt', 'min_samples_leaf': 4, 'min_samples_split': 10, 'n_estimators': 120}\n",
      "Best Score:  0.5917448449583423\n"
     ]
    }
   ],
   "source": [
    "\n",
    "from sklearn.model_selection import GridSearchCV\n",
    "from sklearn.ensemble import RandomForestRegressor\n",
    "\n",
    "model = RandomForestRegressor(n_jobs=-1)\n",
    "\n",
    "# 定义参数网格\n",
    "param_grid = {\n",
    "    'n_estimators': [50, 80, 120],\n",
    "    'max_depth': [None, 10, 20],\n",
    "    'min_samples_split': [10],\n",
    "    'min_samples_leaf': [4],\n",
    "    'max_features': ['sqrt']\n",
    "}\n",
    "\n",
    "# 执行网格搜索\n",
    "grid_search = GridSearchCV(estimator=model, param_grid=param_grid, cv=3, n_jobs=-1, verbose=2)\n",
    "grid_result = grid_search.fit(features_train, targets_train)\n",
    "\n",
    "# 输出最佳参数组合和得分\n",
    "print(\"Best Parameters: \", grid_result.best_params_)\n",
    "print(\"Best Score: \", grid_result.best_score_)"
   ]
  },
  {
   "cell_type": "code",
   "execution_count": 12,
   "metadata": {
    "ExecuteTime": {
     "end_time": "2024-03-22T10:21:08.620715100Z",
     "start_time": "2024-03-22T10:20:55.080571300Z"
    }
   },
   "outputs": [
    {
     "data": {
      "text/plain": [
       "(184937, 3)"
      ]
     },
     "execution_count": 12,
     "metadata": {},
     "output_type": "execute_result"
    }
   ],
   "source": [
    "from sklearn.linear_model import LinearRegression\n",
    "from sklearn.ensemble import RandomForestRegressor\n",
    "import xgboost as xgb\n",
    "\n",
    "# model = LinearRegression()\n",
    "# model = RandomForestRegressor(n_estimators=20, n_jobs=-1)\n",
    "# model = RandomForestRegressor(\n",
    "#     n_estimators=100,\n",
    "#     max_depth=30,\n",
    "#     min_samples_leaf=5,\n",
    "#     min_samples_split=10,\n",
    "#     max_features='sqrt', \n",
    "#     n_jobs=-1)\n",
    "model = xgb.XGBRegressor(\n",
    "    n_estimators=128, \n",
    "    max_depth=8,\n",
    "    learning_rate=0.1,\n",
    "    n_jobs=-1\n",
    ")\n",
    "model.fit(features_train, targets_train)\n",
    "predicts = model.predict(features_valid)\n",
    "predicts.shape"
   ]
  },
  {
   "cell_type": "markdown",
   "metadata": {},
   "source": [
    "## 验证集 & 测试集 & 提交结果"
   ]
  },
  {
   "cell_type": "code",
   "execution_count": 13,
   "metadata": {
    "ExecuteTime": {
     "end_time": "2024-03-22T10:21:17.898967600Z",
     "start_time": "2024-03-22T10:21:17.868460500Z"
    }
   },
   "outputs": [
    {
     "data": {
      "text/plain": [
       "{'score': 0.3709332048892975}"
      ]
     },
     "execution_count": 13,
     "metadata": {},
     "output_type": "execute_result"
    }
   ],
   "source": [
    "from src.metric import compute_metrics\n",
    "\n",
    "# 计算指标时恢复对数\n",
    "def exp_interactions(x: np.ndarray) -> np.ndarray:\n",
    "    \"\"\"先计算指数，然后取整\"\"\"\n",
    "    return np.rint(np.exp(x) - 1).astype(int)\n",
    "compute_metrics(exp_interactions(predicts), targets_valid)"
   ]
  },
  {
   "cell_type": "code",
   "execution_count": 14,
   "metadata": {
    "ExecuteTime": {
     "end_time": "2024-03-22T10:21:21.874660500Z",
     "start_time": "2024-03-22T10:21:19.908845700Z"
    }
   },
   "outputs": [],
   "source": [
    "test_set_predicts = exp_interactions(model.predict(features_test))\n",
    "results = []\n",
    "for i in range(len(data['test'])):\n",
    "    results.append(\n",
    "        \"{}\\t{}\\t{},{},{}\\n\".format(\n",
    "            data['test'].loc[i, 'uid'],\n",
    "            data['test'].loc[i, 'mid'],\n",
    "            test_set_predicts[i, 1],\n",
    "            test_set_predicts[i, 2],\n",
    "            test_set_predicts[i, 0]\n",
    "        )\n",
    "    )\n",
    "with open(\"submission.txt\", 'w') as f:\n",
    "    f.writelines(results)"
   ]
  }
 ],
 "metadata": {
  "kernelspec": {
   "display_name": "weibo",
   "language": "python",
   "name": "python3"
  },
  "language_info": {
   "codemirror_mode": {
    "name": "ipython",
    "version": 3
   },
   "file_extension": ".py",
   "mimetype": "text/x-python",
   "name": "python",
   "nbconvert_exporter": "python",
   "pygments_lexer": "ipython3",
   "version": "3.12.2"
  }
 },
 "nbformat": 4,
 "nbformat_minor": 2
}

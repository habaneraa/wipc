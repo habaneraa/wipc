{
 "cells": [
  {
   "cell_type": "markdown",
   "metadata": {},
   "source": [
    "若不禁用 quoting 则 pandas 将读取 1,225,088 行，其中一部分数据行被双引号打乱\n",
    "\n",
    "认为 1,229,618 是正确的数据总行数"
   ]
  },
  {
   "cell_type": "code",
   "execution_count": null,
   "metadata": {},
   "outputs": [],
   "source": [
    "import pandas as pd\n",
    "import numpy as np\n",
    "import csv\n",
    "import matplotlib.pyplot as plt\n",
    "\n",
    "col_names_train = ['uid', 'mid', 'time', 'forward_count', 'comment_count', 'like_count', 'content']\n",
    "col_names_predict = ['uid', 'mid', 'time', 'content']\n",
    "output_columns = ['like_count', 'forward_count', 'comment_count']\n",
    "\n",
    "train_raw_df = pd.read_table('./data/raw/weibo_train_data.txt', \n",
    "                             names=col_names_train, \n",
    "                             quotechar=None, quoting=csv.QUOTE_NONE)\n",
    "test_raw_df = pd.read_table('./data/raw/weibo_predict_data.txt', \n",
    "                            names=col_names_predict, \n",
    "                            quotechar=None, quoting=csv.QUOTE_NONE)\n",
    "\n",
    "# def count_log_scale(df: pd.DataFrame):\n",
    "#     for col in output_columns:\n",
    "#         df[col] = df[col].map(lambda x: np.log(x + 1))\n",
    "# count_log_scale(train_raw_df)\n",
    "train_raw_df.info()"
   ]
  },
  {
   "cell_type": "code",
   "execution_count": null,
   "metadata": {},
   "outputs": [],
   "source": [
    "print('num of unique users:', len(train_raw_df['uid'].unique()))\n",
    "print('num of posts:', len(train_raw_df['mid'].unique()))"
   ]
  },
  {
   "cell_type": "code",
   "execution_count": null,
   "metadata": {},
   "outputs": [],
   "source": [
    "df = train_raw_df\n",
    "def sum_interaction(row):\n",
    "    return (row['forward_count'] + row['comment_count'] + row['like_count'])\n",
    "\n",
    "non_zero_posts = df[df.apply(sum_interaction, axis=1) != 0]\n",
    "len(non_zero_posts) / len(df)"
   ]
  },
  {
   "cell_type": "markdown",
   "metadata": {},
   "source": [
    "统计文本长度分布"
   ]
  },
  {
   "cell_type": "code",
   "execution_count": null,
   "metadata": {},
   "outputs": [],
   "source": [
    "text_length = train_raw_df['content'].astype(str).apply(len).to_numpy()\n",
    "print(np.mean(text_length), np.std(text_length))\n",
    "\n",
    "fig = plt.figure(figsize=(12,5))\n",
    "plt.hist(text_length, bins=range(0, text_length.max() + 1), align='left', rwidth=0.8)\n",
    "plt.xlabel('Text Length by Characters')\n",
    "plt.ylabel('Num of samples')\n",
    "plt.title('Text Length Distribution')\n",
    "plt.show()"
   ]
  },
  {
   "cell_type": "code",
   "execution_count": null,
   "metadata": {},
   "outputs": [],
   "source": [
    "like_count = train_raw_df['like_count'].value_counts()\n",
    "forward_count = train_raw_df['forward_count'].value_counts()\n",
    "comment_count = train_raw_df['comment_count'].value_counts()\n",
    "\n",
    "fig, axs = plt.subplots(1, 3, figsize=(16, 4))\n",
    "# plt.scatter(like_count.index, like_count.values, color='skyblue')\n",
    "\n",
    "axs[0].scatter(like_count.index, like_count.values, alpha=0.5)\n",
    "axs[0].set_title('Number of Likes Distribution')\n",
    "axs[0].set_xscale('log')\n",
    "axs[0].set_yscale('log')\n",
    "\n",
    "axs[1].scatter(forward_count.index, forward_count.values, alpha=0.5)\n",
    "axs[1].set_title('Number of Forwards Distribution')\n",
    "axs[1].set_xscale('log')\n",
    "axs[1].set_yscale('log')\n",
    "\n",
    "axs[2].scatter(comment_count.index, comment_count.values, alpha=0.5)\n",
    "axs[2].set_title('Number of Comments Distribution')\n",
    "axs[2].set_xscale('log')\n",
    "axs[2].set_yscale('log')\n",
    "\n",
    "plt.tight_layout()\n",
    "# plt.title('Distribution of Likes/Forwards/Comments')\n",
    "plt.show()"
   ]
  },
  {
   "cell_type": "code",
   "execution_count": null,
   "metadata": {},
   "outputs": [],
   "source": [
    "\n",
    "hours = pd.to_datetime(train_raw_df['time']).dt.hour\n",
    "plt.figure(figsize=(10, 6))\n",
    "# plt.hist(hours, bins=24, color='skyblue', edgecolor='black')\n",
    "plt.bar(hours.value_counts().index, hours.value_counts().values)\n",
    "\n",
    "# Set labels and title\n",
    "plt.xlabel('Hour of the Day')\n",
    "plt.ylabel('Frequency')\n",
    "plt.title('Distribution of Time')\n",
    "\n",
    "plt.xticks(range(0, 24))\n",
    "plt.show()"
   ]
  },
  {
   "cell_type": "code",
   "execution_count": null,
   "metadata": {},
   "outputs": [],
   "source": [
    "from collections import Counter\n",
    "from tqdm import tqdm\n",
    "all_users = train_raw_df['uid'].unique()\n",
    "\n",
    "# 累加每个用户的所有博文获得的点赞/转发/评论\n",
    "user_total_likes = {u: 0 for u in all_users}\n",
    "user_total_forwards = {u: 0 for u in all_users}\n",
    "user_total_comments = {u: 0 for u in all_users}\n",
    "for index, row in tqdm(train_raw_df.iterrows(), total=len(train_raw_df)):\n",
    "    user_total_likes[row['uid']] = user_total_likes[row['uid']] + int(row['like_count'])\n",
    "    user_total_forwards[row['uid']] = user_total_forwards[row['uid']] + int(row['forward_count'])\n",
    "    user_total_comments[row['uid']] = user_total_comments[row['uid']] + int(row['comment_count'])\n",
    "\n",
    "\n",
    "user_likes_counter = Counter(user_total_likes.values())\n",
    "user_forwards_counter = Counter(user_total_forwards.values())\n",
    "user_comments_counter = Counter(user_total_comments.values())\n",
    "\n",
    "plt.figure(figsize=(10, 6))\n",
    "fig, axs = plt.subplots(1, 3, figsize=(16, 4))\n",
    "\n",
    "axs[0].scatter(user_likes_counter.keys(), user_likes_counter.values(), alpha=0.5)\n",
    "axs[0].set_title('Number of Likes Distribution (by user)')\n",
    "axs[0].set_xscale('log')\n",
    "axs[0].set_yscale('log')\n",
    "\n",
    "axs[1].scatter(user_forwards_counter.keys(), user_forwards_counter.values(), alpha=0.5)\n",
    "axs[1].set_title('Number of Forwards Distribution (by user)')\n",
    "axs[1].set_xscale('log')\n",
    "axs[1].set_yscale('log')\n",
    "\n",
    "axs[2].scatter(user_comments_counter.keys(), user_comments_counter.values(), alpha=0.5)\n",
    "axs[2].set_title('Number of Comments Distribution (by user)')\n",
    "axs[2].set_xscale('log')\n",
    "axs[2].set_yscale('log')\n",
    "\n",
    "plt.tight_layout()\n",
    "# plt.title('Distribution of Likes/Forwards/Comments')\n",
    "plt.show()"
   ]
  },
  {
   "cell_type": "markdown",
   "metadata": {},
   "source": [
    "查看训练集和测试集中 uid 的重叠情况"
   ]
  },
  {
   "cell_type": "code",
   "execution_count": null,
   "metadata": {},
   "outputs": [],
   "source": [
    "users_train = train_raw_df['uid'].unique()\n",
    "users_test = test_raw_df['uid'].unique()\n",
    "\n",
    "print('train:', len(set(users_train)))\n",
    "print('test:', len(set(users_test)))\n",
    "print(len(set.intersection(set(users_test), set(users_train))))\n",
    "print('测试集中 未在训练集中出现的 uid 数量', len(set.difference(set(users_test), set(users_train))))"
   ]
  },
  {
   "cell_type": "markdown",
   "metadata": {},
   "source": [
    "Time Span"
   ]
  },
  {
   "cell_type": "code",
   "execution_count": null,
   "metadata": {},
   "outputs": [],
   "source": [
    "all_datetimes = pd.to_datetime(train_raw_df['time'])\n",
    "print( all_datetimes.min(), all_datetimes.max() )\n",
    "valid = all_datetimes[all_datetimes > pd.to_datetime('2015-07-01 00:00:00')]\n",
    "\n",
    "print( valid.min(), valid.max() )"
   ]
  }
 ],
 "metadata": {
  "kernelspec": {
   "display_name": "mer",
   "language": "python",
   "name": "python3"
  },
  "language_info": {
   "codemirror_mode": {
    "name": "ipython",
    "version": 3
   },
   "file_extension": ".py",
   "mimetype": "text/x-python",
   "name": "python",
   "nbconvert_exporter": "python",
   "pygments_lexer": "ipython3",
   "version": "3.12.2"
  }
 },
 "nbformat": 4,
 "nbformat_minor": 2
}
